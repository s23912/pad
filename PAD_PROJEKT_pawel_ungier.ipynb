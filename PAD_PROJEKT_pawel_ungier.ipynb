{
  "nbformat": 4,
  "nbformat_minor": 0,
  "metadata": {
    "colab": {
      "name": "PAD_PROJEKT_pawel_ungier",
      "provenance": [],
      "collapsed_sections": [],
      "mount_file_id": "1-JKdOWuloqBLjGEKjMDcBlqZBMs7Kaua",
      "authorship_tag": "ABX9TyMwbCy0nHahtFjqRefk2WRP",
      "include_colab_link": true
    },
    "kernelspec": {
      "name": "python3",
      "display_name": "Python 3"
    },
    "language_info": {
      "name": "python"
    }
  },
  "cells": [
    {
      "cell_type": "markdown",
      "metadata": {
        "id": "view-in-github",
        "colab_type": "text"
      },
      "source": [
        "<a href=\"https://colab.research.google.com/github/s23912/pad/blob/main/PAD_PROJEKT_pawel_ungier.ipynb\" target=\"_parent\"><img src=\"https://colab.research.google.com/assets/colab-badge.svg\" alt=\"Open In Colab\"/></a>"
      ]
    },
    {
      "cell_type": "code",
      "execution_count": 1,
      "metadata": {
        "id": "NoG8gkUr0OoD"
      },
      "outputs": [],
      "source": [
        "#Pawel Ungier"
      ]
    },
    {
      "cell_type": "code",
      "source": [
        "import pandas as pd\n",
        "path = '/content/drive/MyDrive/PAD/PROJEKT/BostonHousing.csv'\n",
        "df = pd.read_csv(path, sep=',')\n",
        "df.head()"
      ],
      "metadata": {
        "colab": {
          "base_uri": "https://localhost:8080/",
          "height": 206
        },
        "id": "1kAoA6ez0R3t",
        "outputId": "8a8dd2aa-0b7d-41ff-e1f2-b670d915dcb0"
      },
      "execution_count": 2,
      "outputs": [
        {
          "output_type": "execute_result",
          "data": {
            "text/html": [
              "\n",
              "  <div id=\"df-98018778-835d-4864-9967-d2c945b64a9e\">\n",
              "    <div class=\"colab-df-container\">\n",
              "      <div>\n",
              "<style scoped>\n",
              "    .dataframe tbody tr th:only-of-type {\n",
              "        vertical-align: middle;\n",
              "    }\n",
              "\n",
              "    .dataframe tbody tr th {\n",
              "        vertical-align: top;\n",
              "    }\n",
              "\n",
              "    .dataframe thead th {\n",
              "        text-align: right;\n",
              "    }\n",
              "</style>\n",
              "<table border=\"1\" class=\"dataframe\">\n",
              "  <thead>\n",
              "    <tr style=\"text-align: right;\">\n",
              "      <th></th>\n",
              "      <th>crim</th>\n",
              "      <th>zn</th>\n",
              "      <th>indus</th>\n",
              "      <th>chas</th>\n",
              "      <th>nox</th>\n",
              "      <th>rm</th>\n",
              "      <th>age</th>\n",
              "      <th>dis</th>\n",
              "      <th>rad</th>\n",
              "      <th>tax</th>\n",
              "      <th>ptratio</th>\n",
              "      <th>b</th>\n",
              "      <th>lstat</th>\n",
              "      <th>medv</th>\n",
              "    </tr>\n",
              "  </thead>\n",
              "  <tbody>\n",
              "    <tr>\n",
              "      <th>0</th>\n",
              "      <td>0.00632</td>\n",
              "      <td>18.0</td>\n",
              "      <td>2.31</td>\n",
              "      <td>0</td>\n",
              "      <td>0.538</td>\n",
              "      <td>6.575</td>\n",
              "      <td>65.2</td>\n",
              "      <td>4.0900</td>\n",
              "      <td>1</td>\n",
              "      <td>296</td>\n",
              "      <td>15.3</td>\n",
              "      <td>396.90</td>\n",
              "      <td>4.98</td>\n",
              "      <td>24.0</td>\n",
              "    </tr>\n",
              "    <tr>\n",
              "      <th>1</th>\n",
              "      <td>0.02731</td>\n",
              "      <td>0.0</td>\n",
              "      <td>7.07</td>\n",
              "      <td>0</td>\n",
              "      <td>0.469</td>\n",
              "      <td>6.421</td>\n",
              "      <td>78.9</td>\n",
              "      <td>4.9671</td>\n",
              "      <td>2</td>\n",
              "      <td>242</td>\n",
              "      <td>17.8</td>\n",
              "      <td>396.90</td>\n",
              "      <td>9.14</td>\n",
              "      <td>21.6</td>\n",
              "    </tr>\n",
              "    <tr>\n",
              "      <th>2</th>\n",
              "      <td>0.02729</td>\n",
              "      <td>0.0</td>\n",
              "      <td>7.07</td>\n",
              "      <td>0</td>\n",
              "      <td>0.469</td>\n",
              "      <td>7.185</td>\n",
              "      <td>61.1</td>\n",
              "      <td>4.9671</td>\n",
              "      <td>2</td>\n",
              "      <td>242</td>\n",
              "      <td>17.8</td>\n",
              "      <td>392.83</td>\n",
              "      <td>4.03</td>\n",
              "      <td>34.7</td>\n",
              "    </tr>\n",
              "    <tr>\n",
              "      <th>3</th>\n",
              "      <td>0.03237</td>\n",
              "      <td>0.0</td>\n",
              "      <td>2.18</td>\n",
              "      <td>0</td>\n",
              "      <td>0.458</td>\n",
              "      <td>6.998</td>\n",
              "      <td>45.8</td>\n",
              "      <td>6.0622</td>\n",
              "      <td>3</td>\n",
              "      <td>222</td>\n",
              "      <td>18.7</td>\n",
              "      <td>394.63</td>\n",
              "      <td>2.94</td>\n",
              "      <td>33.4</td>\n",
              "    </tr>\n",
              "    <tr>\n",
              "      <th>4</th>\n",
              "      <td>0.06905</td>\n",
              "      <td>0.0</td>\n",
              "      <td>2.18</td>\n",
              "      <td>0</td>\n",
              "      <td>0.458</td>\n",
              "      <td>7.147</td>\n",
              "      <td>54.2</td>\n",
              "      <td>6.0622</td>\n",
              "      <td>3</td>\n",
              "      <td>222</td>\n",
              "      <td>18.7</td>\n",
              "      <td>396.90</td>\n",
              "      <td>5.33</td>\n",
              "      <td>36.2</td>\n",
              "    </tr>\n",
              "  </tbody>\n",
              "</table>\n",
              "</div>\n",
              "      <button class=\"colab-df-convert\" onclick=\"convertToInteractive('df-98018778-835d-4864-9967-d2c945b64a9e')\"\n",
              "              title=\"Convert this dataframe to an interactive table.\"\n",
              "              style=\"display:none;\">\n",
              "        \n",
              "  <svg xmlns=\"http://www.w3.org/2000/svg\" height=\"24px\"viewBox=\"0 0 24 24\"\n",
              "       width=\"24px\">\n",
              "    <path d=\"M0 0h24v24H0V0z\" fill=\"none\"/>\n",
              "    <path d=\"M18.56 5.44l.94 2.06.94-2.06 2.06-.94-2.06-.94-.94-2.06-.94 2.06-2.06.94zm-11 1L8.5 8.5l.94-2.06 2.06-.94-2.06-.94L8.5 2.5l-.94 2.06-2.06.94zm10 10l.94 2.06.94-2.06 2.06-.94-2.06-.94-.94-2.06-.94 2.06-2.06.94z\"/><path d=\"M17.41 7.96l-1.37-1.37c-.4-.4-.92-.59-1.43-.59-.52 0-1.04.2-1.43.59L10.3 9.45l-7.72 7.72c-.78.78-.78 2.05 0 2.83L4 21.41c.39.39.9.59 1.41.59.51 0 1.02-.2 1.41-.59l7.78-7.78 2.81-2.81c.8-.78.8-2.07 0-2.86zM5.41 20L4 18.59l7.72-7.72 1.47 1.35L5.41 20z\"/>\n",
              "  </svg>\n",
              "      </button>\n",
              "      \n",
              "  <style>\n",
              "    .colab-df-container {\n",
              "      display:flex;\n",
              "      flex-wrap:wrap;\n",
              "      gap: 12px;\n",
              "    }\n",
              "\n",
              "    .colab-df-convert {\n",
              "      background-color: #E8F0FE;\n",
              "      border: none;\n",
              "      border-radius: 50%;\n",
              "      cursor: pointer;\n",
              "      display: none;\n",
              "      fill: #1967D2;\n",
              "      height: 32px;\n",
              "      padding: 0 0 0 0;\n",
              "      width: 32px;\n",
              "    }\n",
              "\n",
              "    .colab-df-convert:hover {\n",
              "      background-color: #E2EBFA;\n",
              "      box-shadow: 0px 1px 2px rgba(60, 64, 67, 0.3), 0px 1px 3px 1px rgba(60, 64, 67, 0.15);\n",
              "      fill: #174EA6;\n",
              "    }\n",
              "\n",
              "    [theme=dark] .colab-df-convert {\n",
              "      background-color: #3B4455;\n",
              "      fill: #D2E3FC;\n",
              "    }\n",
              "\n",
              "    [theme=dark] .colab-df-convert:hover {\n",
              "      background-color: #434B5C;\n",
              "      box-shadow: 0px 1px 3px 1px rgba(0, 0, 0, 0.15);\n",
              "      filter: drop-shadow(0px 1px 2px rgba(0, 0, 0, 0.3));\n",
              "      fill: #FFFFFF;\n",
              "    }\n",
              "  </style>\n",
              "\n",
              "      <script>\n",
              "        const buttonEl =\n",
              "          document.querySelector('#df-98018778-835d-4864-9967-d2c945b64a9e button.colab-df-convert');\n",
              "        buttonEl.style.display =\n",
              "          google.colab.kernel.accessAllowed ? 'block' : 'none';\n",
              "\n",
              "        async function convertToInteractive(key) {\n",
              "          const element = document.querySelector('#df-98018778-835d-4864-9967-d2c945b64a9e');\n",
              "          const dataTable =\n",
              "            await google.colab.kernel.invokeFunction('convertToInteractive',\n",
              "                                                     [key], {});\n",
              "          if (!dataTable) return;\n",
              "\n",
              "          const docLinkHtml = 'Like what you see? Visit the ' +\n",
              "            '<a target=\"_blank\" href=https://colab.research.google.com/notebooks/data_table.ipynb>data table notebook</a>'\n",
              "            + ' to learn more about interactive tables.';\n",
              "          element.innerHTML = '';\n",
              "          dataTable['output_type'] = 'display_data';\n",
              "          await google.colab.output.renderOutput(dataTable, element);\n",
              "          const docLink = document.createElement('div');\n",
              "          docLink.innerHTML = docLinkHtml;\n",
              "          element.appendChild(docLink);\n",
              "        }\n",
              "      </script>\n",
              "    </div>\n",
              "  </div>\n",
              "  "
            ],
            "text/plain": [
              "      crim    zn  indus  chas    nox  ...  tax  ptratio       b  lstat  medv\n",
              "0  0.00632  18.0   2.31     0  0.538  ...  296     15.3  396.90   4.98  24.0\n",
              "1  0.02731   0.0   7.07     0  0.469  ...  242     17.8  396.90   9.14  21.6\n",
              "2  0.02729   0.0   7.07     0  0.469  ...  242     17.8  392.83   4.03  34.7\n",
              "3  0.03237   0.0   2.18     0  0.458  ...  222     18.7  394.63   2.94  33.4\n",
              "4  0.06905   0.0   2.18     0  0.458  ...  222     18.7  396.90   5.33  36.2\n",
              "\n",
              "[5 rows x 14 columns]"
            ]
          },
          "metadata": {},
          "execution_count": 2
        }
      ]
    },
    {
      "cell_type": "markdown",
      "source": [
        "# Zadanie 1 (6ptk) Dokonaj podziału danych na zbiór treningowy i test w proporcji 0,75/0,25.\n"
      ],
      "metadata": {
        "id": "6KwdAPlc0-56"
      }
    },
    {
      "cell_type": "code",
      "source": [
        "import numpy as np\n",
        "import matplotlib.pyplot as plt\n",
        "import seaborn as sns\n",
        "from sklearn.model_selection import train_test_split\n",
        "Y = df['medv'] # zmienna celu\n",
        "X = df.drop(['medv'], axis = 1) # dane\n",
        "X_train, X_test, y_train, y_test = train_test_split(X, Y, test_size = 0.25, random_state = 42)"
      ],
      "metadata": {
        "id": "_Sireb8P1NhV"
      },
      "execution_count": 3,
      "outputs": []
    },
    {
      "cell_type": "markdown",
      "source": [
        "#Zadanie 2 (6ptk) Usuń ze zbioru kolumną „Chas”. Dokonaj standaryzacji wszystkich kolumn poza „Medv”\n"
      ],
      "metadata": {
        "id": "Zj0y4zSr1XKR"
      }
    },
    {
      "cell_type": "code",
      "source": [
        "from sklearn.preprocessing import StandardScaler\n",
        "ss = StandardScaler()\n",
        "\n",
        "X_train = X_train.drop(['chas'], axis = 1)\n",
        "X_test = X_test.drop(['chas'], axis = 1)\n",
        "\n",
        "X_train = ss.fit_transform(X_train)\n",
        "X_test = ss.fit_transform(X_test)\n"
      ],
      "metadata": {
        "id": "gWyvFUFt1bFS"
      },
      "execution_count": 4,
      "outputs": []
    },
    {
      "cell_type": "code",
      "source": [
        "print(X_train.mean(axis = 0))\n",
        "print(X_train.std(axis = 0))"
      ],
      "metadata": {
        "colab": {
          "base_uri": "https://localhost:8080/"
        },
        "id": "f0R0Hwz74BWF",
        "outputId": "6feb3584-ad3f-4b0e-b7f4-81fe42010531"
      },
      "execution_count": 5,
      "outputs": [
        {
          "output_type": "stream",
          "name": "stdout",
          "text": [
            "[-8.43652325e-17  2.22630475e-17  3.35117451e-16 -4.89787044e-16\n",
            " -4.92130523e-17 -9.84261046e-17  1.40608721e-17  8.08500145e-17\n",
            "  9.72543652e-17 -7.82721879e-16 -1.17173934e-17 -2.23802214e-16]\n",
            "[1. 1. 1. 1. 1. 1. 1. 1. 1. 1. 1. 1.]\n"
          ]
        }
      ]
    },
    {
      "cell_type": "markdown",
      "source": [
        "#Zadanie 3 (6ptk) Przedstaw w formie heatmapy oraz ramki danych, macierz korelacji dla wszystkich kolumn danych.\n"
      ],
      "metadata": {
        "id": "PEi5T3A41b1r"
      }
    },
    {
      "cell_type": "code",
      "source": [
        "df_correlation = df.corr()\n",
        "df_correlation"
      ],
      "metadata": {
        "colab": {
          "base_uri": "https://localhost:8080/",
          "height": 488
        },
        "id": "V_3gTTTn1ht3",
        "outputId": "6f2cd26b-554f-4759-8564-c418588f4b69"
      },
      "execution_count": 6,
      "outputs": [
        {
          "output_type": "execute_result",
          "data": {
            "text/html": [
              "\n",
              "  <div id=\"df-3d496bba-027f-4e19-9042-6aedcf65a763\">\n",
              "    <div class=\"colab-df-container\">\n",
              "      <div>\n",
              "<style scoped>\n",
              "    .dataframe tbody tr th:only-of-type {\n",
              "        vertical-align: middle;\n",
              "    }\n",
              "\n",
              "    .dataframe tbody tr th {\n",
              "        vertical-align: top;\n",
              "    }\n",
              "\n",
              "    .dataframe thead th {\n",
              "        text-align: right;\n",
              "    }\n",
              "</style>\n",
              "<table border=\"1\" class=\"dataframe\">\n",
              "  <thead>\n",
              "    <tr style=\"text-align: right;\">\n",
              "      <th></th>\n",
              "      <th>crim</th>\n",
              "      <th>zn</th>\n",
              "      <th>indus</th>\n",
              "      <th>chas</th>\n",
              "      <th>nox</th>\n",
              "      <th>rm</th>\n",
              "      <th>age</th>\n",
              "      <th>dis</th>\n",
              "      <th>rad</th>\n",
              "      <th>tax</th>\n",
              "      <th>ptratio</th>\n",
              "      <th>b</th>\n",
              "      <th>lstat</th>\n",
              "      <th>medv</th>\n",
              "    </tr>\n",
              "  </thead>\n",
              "  <tbody>\n",
              "    <tr>\n",
              "      <th>crim</th>\n",
              "      <td>1.000000</td>\n",
              "      <td>-0.200469</td>\n",
              "      <td>0.406583</td>\n",
              "      <td>-0.055892</td>\n",
              "      <td>0.420972</td>\n",
              "      <td>-0.219247</td>\n",
              "      <td>0.352734</td>\n",
              "      <td>-0.379670</td>\n",
              "      <td>0.625505</td>\n",
              "      <td>0.582764</td>\n",
              "      <td>0.289946</td>\n",
              "      <td>-0.385064</td>\n",
              "      <td>0.455621</td>\n",
              "      <td>-0.388305</td>\n",
              "    </tr>\n",
              "    <tr>\n",
              "      <th>zn</th>\n",
              "      <td>-0.200469</td>\n",
              "      <td>1.000000</td>\n",
              "      <td>-0.533828</td>\n",
              "      <td>-0.042697</td>\n",
              "      <td>-0.516604</td>\n",
              "      <td>0.311991</td>\n",
              "      <td>-0.569537</td>\n",
              "      <td>0.664408</td>\n",
              "      <td>-0.311948</td>\n",
              "      <td>-0.314563</td>\n",
              "      <td>-0.391679</td>\n",
              "      <td>0.175520</td>\n",
              "      <td>-0.412995</td>\n",
              "      <td>0.360445</td>\n",
              "    </tr>\n",
              "    <tr>\n",
              "      <th>indus</th>\n",
              "      <td>0.406583</td>\n",
              "      <td>-0.533828</td>\n",
              "      <td>1.000000</td>\n",
              "      <td>0.062938</td>\n",
              "      <td>0.763651</td>\n",
              "      <td>-0.391676</td>\n",
              "      <td>0.644779</td>\n",
              "      <td>-0.708027</td>\n",
              "      <td>0.595129</td>\n",
              "      <td>0.720760</td>\n",
              "      <td>0.383248</td>\n",
              "      <td>-0.356977</td>\n",
              "      <td>0.603800</td>\n",
              "      <td>-0.483725</td>\n",
              "    </tr>\n",
              "    <tr>\n",
              "      <th>chas</th>\n",
              "      <td>-0.055892</td>\n",
              "      <td>-0.042697</td>\n",
              "      <td>0.062938</td>\n",
              "      <td>1.000000</td>\n",
              "      <td>0.091203</td>\n",
              "      <td>0.091251</td>\n",
              "      <td>0.086518</td>\n",
              "      <td>-0.099176</td>\n",
              "      <td>-0.007368</td>\n",
              "      <td>-0.035587</td>\n",
              "      <td>-0.121515</td>\n",
              "      <td>0.048788</td>\n",
              "      <td>-0.053929</td>\n",
              "      <td>0.175260</td>\n",
              "    </tr>\n",
              "    <tr>\n",
              "      <th>nox</th>\n",
              "      <td>0.420972</td>\n",
              "      <td>-0.516604</td>\n",
              "      <td>0.763651</td>\n",
              "      <td>0.091203</td>\n",
              "      <td>1.000000</td>\n",
              "      <td>-0.302188</td>\n",
              "      <td>0.731470</td>\n",
              "      <td>-0.769230</td>\n",
              "      <td>0.611441</td>\n",
              "      <td>0.668023</td>\n",
              "      <td>0.188933</td>\n",
              "      <td>-0.380051</td>\n",
              "      <td>0.590879</td>\n",
              "      <td>-0.427321</td>\n",
              "    </tr>\n",
              "    <tr>\n",
              "      <th>rm</th>\n",
              "      <td>-0.219247</td>\n",
              "      <td>0.311991</td>\n",
              "      <td>-0.391676</td>\n",
              "      <td>0.091251</td>\n",
              "      <td>-0.302188</td>\n",
              "      <td>1.000000</td>\n",
              "      <td>-0.240265</td>\n",
              "      <td>0.205246</td>\n",
              "      <td>-0.209847</td>\n",
              "      <td>-0.292048</td>\n",
              "      <td>-0.355501</td>\n",
              "      <td>0.128069</td>\n",
              "      <td>-0.613808</td>\n",
              "      <td>0.695360</td>\n",
              "    </tr>\n",
              "    <tr>\n",
              "      <th>age</th>\n",
              "      <td>0.352734</td>\n",
              "      <td>-0.569537</td>\n",
              "      <td>0.644779</td>\n",
              "      <td>0.086518</td>\n",
              "      <td>0.731470</td>\n",
              "      <td>-0.240265</td>\n",
              "      <td>1.000000</td>\n",
              "      <td>-0.747881</td>\n",
              "      <td>0.456022</td>\n",
              "      <td>0.506456</td>\n",
              "      <td>0.261515</td>\n",
              "      <td>-0.273534</td>\n",
              "      <td>0.602339</td>\n",
              "      <td>-0.376955</td>\n",
              "    </tr>\n",
              "    <tr>\n",
              "      <th>dis</th>\n",
              "      <td>-0.379670</td>\n",
              "      <td>0.664408</td>\n",
              "      <td>-0.708027</td>\n",
              "      <td>-0.099176</td>\n",
              "      <td>-0.769230</td>\n",
              "      <td>0.205246</td>\n",
              "      <td>-0.747881</td>\n",
              "      <td>1.000000</td>\n",
              "      <td>-0.494588</td>\n",
              "      <td>-0.534432</td>\n",
              "      <td>-0.232471</td>\n",
              "      <td>0.291512</td>\n",
              "      <td>-0.496996</td>\n",
              "      <td>0.249929</td>\n",
              "    </tr>\n",
              "    <tr>\n",
              "      <th>rad</th>\n",
              "      <td>0.625505</td>\n",
              "      <td>-0.311948</td>\n",
              "      <td>0.595129</td>\n",
              "      <td>-0.007368</td>\n",
              "      <td>0.611441</td>\n",
              "      <td>-0.209847</td>\n",
              "      <td>0.456022</td>\n",
              "      <td>-0.494588</td>\n",
              "      <td>1.000000</td>\n",
              "      <td>0.910228</td>\n",
              "      <td>0.464741</td>\n",
              "      <td>-0.444413</td>\n",
              "      <td>0.488676</td>\n",
              "      <td>-0.381626</td>\n",
              "    </tr>\n",
              "    <tr>\n",
              "      <th>tax</th>\n",
              "      <td>0.582764</td>\n",
              "      <td>-0.314563</td>\n",
              "      <td>0.720760</td>\n",
              "      <td>-0.035587</td>\n",
              "      <td>0.668023</td>\n",
              "      <td>-0.292048</td>\n",
              "      <td>0.506456</td>\n",
              "      <td>-0.534432</td>\n",
              "      <td>0.910228</td>\n",
              "      <td>1.000000</td>\n",
              "      <td>0.460853</td>\n",
              "      <td>-0.441808</td>\n",
              "      <td>0.543993</td>\n",
              "      <td>-0.468536</td>\n",
              "    </tr>\n",
              "    <tr>\n",
              "      <th>ptratio</th>\n",
              "      <td>0.289946</td>\n",
              "      <td>-0.391679</td>\n",
              "      <td>0.383248</td>\n",
              "      <td>-0.121515</td>\n",
              "      <td>0.188933</td>\n",
              "      <td>-0.355501</td>\n",
              "      <td>0.261515</td>\n",
              "      <td>-0.232471</td>\n",
              "      <td>0.464741</td>\n",
              "      <td>0.460853</td>\n",
              "      <td>1.000000</td>\n",
              "      <td>-0.177383</td>\n",
              "      <td>0.374044</td>\n",
              "      <td>-0.507787</td>\n",
              "    </tr>\n",
              "    <tr>\n",
              "      <th>b</th>\n",
              "      <td>-0.385064</td>\n",
              "      <td>0.175520</td>\n",
              "      <td>-0.356977</td>\n",
              "      <td>0.048788</td>\n",
              "      <td>-0.380051</td>\n",
              "      <td>0.128069</td>\n",
              "      <td>-0.273534</td>\n",
              "      <td>0.291512</td>\n",
              "      <td>-0.444413</td>\n",
              "      <td>-0.441808</td>\n",
              "      <td>-0.177383</td>\n",
              "      <td>1.000000</td>\n",
              "      <td>-0.366087</td>\n",
              "      <td>0.333461</td>\n",
              "    </tr>\n",
              "    <tr>\n",
              "      <th>lstat</th>\n",
              "      <td>0.455621</td>\n",
              "      <td>-0.412995</td>\n",
              "      <td>0.603800</td>\n",
              "      <td>-0.053929</td>\n",
              "      <td>0.590879</td>\n",
              "      <td>-0.613808</td>\n",
              "      <td>0.602339</td>\n",
              "      <td>-0.496996</td>\n",
              "      <td>0.488676</td>\n",
              "      <td>0.543993</td>\n",
              "      <td>0.374044</td>\n",
              "      <td>-0.366087</td>\n",
              "      <td>1.000000</td>\n",
              "      <td>-0.737663</td>\n",
              "    </tr>\n",
              "    <tr>\n",
              "      <th>medv</th>\n",
              "      <td>-0.388305</td>\n",
              "      <td>0.360445</td>\n",
              "      <td>-0.483725</td>\n",
              "      <td>0.175260</td>\n",
              "      <td>-0.427321</td>\n",
              "      <td>0.695360</td>\n",
              "      <td>-0.376955</td>\n",
              "      <td>0.249929</td>\n",
              "      <td>-0.381626</td>\n",
              "      <td>-0.468536</td>\n",
              "      <td>-0.507787</td>\n",
              "      <td>0.333461</td>\n",
              "      <td>-0.737663</td>\n",
              "      <td>1.000000</td>\n",
              "    </tr>\n",
              "  </tbody>\n",
              "</table>\n",
              "</div>\n",
              "      <button class=\"colab-df-convert\" onclick=\"convertToInteractive('df-3d496bba-027f-4e19-9042-6aedcf65a763')\"\n",
              "              title=\"Convert this dataframe to an interactive table.\"\n",
              "              style=\"display:none;\">\n",
              "        \n",
              "  <svg xmlns=\"http://www.w3.org/2000/svg\" height=\"24px\"viewBox=\"0 0 24 24\"\n",
              "       width=\"24px\">\n",
              "    <path d=\"M0 0h24v24H0V0z\" fill=\"none\"/>\n",
              "    <path d=\"M18.56 5.44l.94 2.06.94-2.06 2.06-.94-2.06-.94-.94-2.06-.94 2.06-2.06.94zm-11 1L8.5 8.5l.94-2.06 2.06-.94-2.06-.94L8.5 2.5l-.94 2.06-2.06.94zm10 10l.94 2.06.94-2.06 2.06-.94-2.06-.94-.94-2.06-.94 2.06-2.06.94z\"/><path d=\"M17.41 7.96l-1.37-1.37c-.4-.4-.92-.59-1.43-.59-.52 0-1.04.2-1.43.59L10.3 9.45l-7.72 7.72c-.78.78-.78 2.05 0 2.83L4 21.41c.39.39.9.59 1.41.59.51 0 1.02-.2 1.41-.59l7.78-7.78 2.81-2.81c.8-.78.8-2.07 0-2.86zM5.41 20L4 18.59l7.72-7.72 1.47 1.35L5.41 20z\"/>\n",
              "  </svg>\n",
              "      </button>\n",
              "      \n",
              "  <style>\n",
              "    .colab-df-container {\n",
              "      display:flex;\n",
              "      flex-wrap:wrap;\n",
              "      gap: 12px;\n",
              "    }\n",
              "\n",
              "    .colab-df-convert {\n",
              "      background-color: #E8F0FE;\n",
              "      border: none;\n",
              "      border-radius: 50%;\n",
              "      cursor: pointer;\n",
              "      display: none;\n",
              "      fill: #1967D2;\n",
              "      height: 32px;\n",
              "      padding: 0 0 0 0;\n",
              "      width: 32px;\n",
              "    }\n",
              "\n",
              "    .colab-df-convert:hover {\n",
              "      background-color: #E2EBFA;\n",
              "      box-shadow: 0px 1px 2px rgba(60, 64, 67, 0.3), 0px 1px 3px 1px rgba(60, 64, 67, 0.15);\n",
              "      fill: #174EA6;\n",
              "    }\n",
              "\n",
              "    [theme=dark] .colab-df-convert {\n",
              "      background-color: #3B4455;\n",
              "      fill: #D2E3FC;\n",
              "    }\n",
              "\n",
              "    [theme=dark] .colab-df-convert:hover {\n",
              "      background-color: #434B5C;\n",
              "      box-shadow: 0px 1px 3px 1px rgba(0, 0, 0, 0.15);\n",
              "      filter: drop-shadow(0px 1px 2px rgba(0, 0, 0, 0.3));\n",
              "      fill: #FFFFFF;\n",
              "    }\n",
              "  </style>\n",
              "\n",
              "      <script>\n",
              "        const buttonEl =\n",
              "          document.querySelector('#df-3d496bba-027f-4e19-9042-6aedcf65a763 button.colab-df-convert');\n",
              "        buttonEl.style.display =\n",
              "          google.colab.kernel.accessAllowed ? 'block' : 'none';\n",
              "\n",
              "        async function convertToInteractive(key) {\n",
              "          const element = document.querySelector('#df-3d496bba-027f-4e19-9042-6aedcf65a763');\n",
              "          const dataTable =\n",
              "            await google.colab.kernel.invokeFunction('convertToInteractive',\n",
              "                                                     [key], {});\n",
              "          if (!dataTable) return;\n",
              "\n",
              "          const docLinkHtml = 'Like what you see? Visit the ' +\n",
              "            '<a target=\"_blank\" href=https://colab.research.google.com/notebooks/data_table.ipynb>data table notebook</a>'\n",
              "            + ' to learn more about interactive tables.';\n",
              "          element.innerHTML = '';\n",
              "          dataTable['output_type'] = 'display_data';\n",
              "          await google.colab.output.renderOutput(dataTable, element);\n",
              "          const docLink = document.createElement('div');\n",
              "          docLink.innerHTML = docLinkHtml;\n",
              "          element.appendChild(docLink);\n",
              "        }\n",
              "      </script>\n",
              "    </div>\n",
              "  </div>\n",
              "  "
            ],
            "text/plain": [
              "             crim        zn     indus  ...         b     lstat      medv\n",
              "crim     1.000000 -0.200469  0.406583  ... -0.385064  0.455621 -0.388305\n",
              "zn      -0.200469  1.000000 -0.533828  ...  0.175520 -0.412995  0.360445\n",
              "indus    0.406583 -0.533828  1.000000  ... -0.356977  0.603800 -0.483725\n",
              "chas    -0.055892 -0.042697  0.062938  ...  0.048788 -0.053929  0.175260\n",
              "nox      0.420972 -0.516604  0.763651  ... -0.380051  0.590879 -0.427321\n",
              "rm      -0.219247  0.311991 -0.391676  ...  0.128069 -0.613808  0.695360\n",
              "age      0.352734 -0.569537  0.644779  ... -0.273534  0.602339 -0.376955\n",
              "dis     -0.379670  0.664408 -0.708027  ...  0.291512 -0.496996  0.249929\n",
              "rad      0.625505 -0.311948  0.595129  ... -0.444413  0.488676 -0.381626\n",
              "tax      0.582764 -0.314563  0.720760  ... -0.441808  0.543993 -0.468536\n",
              "ptratio  0.289946 -0.391679  0.383248  ... -0.177383  0.374044 -0.507787\n",
              "b       -0.385064  0.175520 -0.356977  ...  1.000000 -0.366087  0.333461\n",
              "lstat    0.455621 -0.412995  0.603800  ... -0.366087  1.000000 -0.737663\n",
              "medv    -0.388305  0.360445 -0.483725  ...  0.333461 -0.737663  1.000000\n",
              "\n",
              "[14 rows x 14 columns]"
            ]
          },
          "metadata": {},
          "execution_count": 6
        }
      ]
    },
    {
      "cell_type": "code",
      "source": [
        "import matplotlib.pyplot as plt\n",
        "import seaborn as sns\n",
        "\n",
        "plt.figure(figsize=(20,10))\n",
        "sns.heatmap(df_correlation, annot = True)"
      ],
      "metadata": {
        "colab": {
          "base_uri": "https://localhost:8080/",
          "height": 614
        },
        "id": "h0355L2aiAeX",
        "outputId": "aea6662c-009a-4942-b4d0-0d05873eabed"
      },
      "execution_count": 7,
      "outputs": [
        {
          "output_type": "execute_result",
          "data": {
            "text/plain": [
              "<matplotlib.axes._subplots.AxesSubplot at 0x7f675220d310>"
            ]
          },
          "metadata": {},
          "execution_count": 7
        },
        {
          "output_type": "display_data",
          "data": {
            "image/png": "[encoded data removed]",
            "text/plain": [
              "<Figure size 1440x720 with 2 Axes>"
            ]
          },
          "metadata": {
            "needs_background": "light"
          }
        }
      ]
    },
    {
      "cell_type": "markdown",
      "source": [
        "#Modelling\n",
        "#Zmienna celu: MEDV\n",
        "#Zadanie 1 (8ptk) Przeprowadź regresję z użyciem modelu liniowego. Wskaż zmienne dla których wartość parametru liniowego była najwyższa.\n"
      ],
      "metadata": {
        "id": "TXyVHWcM1jWr"
      }
    },
    {
      "cell_type": "code",
      "source": [
        "from sklearn.linear_model import LinearRegression\n",
        "from sklearn.metrics import accuracy_score\n",
        "\n",
        "Linear_r = LinearRegression()\n",
        "Linear_r.fit(X_train, y_train)\n",
        "prediction_lr = Linear_r.predict(X_test)\n"
      ],
      "metadata": {
        "id": "1s7Ayelk1twL"
      },
      "execution_count": 8,
      "outputs": []
    },
    {
      "cell_type": "code",
      "source": [
        "from heapq import nlargest\n",
        "Linear_r.coef_"
      ],
      "metadata": {
        "colab": {
          "base_uri": "https://localhost:8080/"
        },
        "id": "OQLv62ZtkJqF",
        "outputId": "c6003156-0be4-4c34-eaf4-c6f229bde3fe"
      },
      "execution_count": 9,
      "outputs": [
        {
          "output_type": "execute_result",
          "data": {
            "text/plain": [
              "array([-1.12591067,  0.72082148,  0.47429032, -1.81069397,  3.18525691,\n",
              "       -0.2279217 , -2.9928517 ,  2.42129716, -1.86967167, -2.15051862,\n",
              "        1.20404368, -3.81114543])"
            ]
          },
          "metadata": {},
          "execution_count": 9
        }
      ]
    },
    {
      "cell_type": "code",
      "source": [
        "coefficience = Linear_r.coef_\n",
        "column_names = X.drop('chas', axis=1).columns\n",
        "\n",
        "coefficiecoef_dict = {}\n",
        "\n",
        "for coef, name in zip(coefficience, column_names):\n",
        "  coefficiecoef_dict[name] = coef\n",
        "\n",
        "highest_coef = nlargest(3, coefficiecoef_dict , key = coefficiecoef_dict.get)  \n",
        "for val in highest_coef: \n",
        "    print(val, \":\", coefficiecoef_dict.get(val))  "
      ],
      "metadata": {
        "colab": {
          "base_uri": "https://localhost:8080/"
        },
        "id": "mdNDCL6mkyfJ",
        "outputId": "ee661524-7b53-4519-849d-4d2f1ee646cb"
      },
      "execution_count": 10,
      "outputs": [
        {
          "output_type": "stream",
          "name": "stdout",
          "text": [
            "rm : 3.1852569065005563\n",
            "rad : 2.421297162959286\n",
            "b : 1.2040436849553866\n"
          ]
        }
      ]
    },
    {
      "cell_type": "markdown",
      "source": [
        "#Zadanie 2 (8ptk) Przeprowadź regresję z użyciem sieci neuronowej o 3 warstwach (po trzy neurony w każdej warstwie)\n"
      ],
      "metadata": {
        "id": "66N1tLBw1tJq"
      }
    },
    {
      "cell_type": "code",
      "source": [
        "import keras\n",
        "model = keras.Sequential([\n",
        "keras.layers.Dense(3, activation = 'relu', input_shape = (X_train[0].shape)),\n",
        "keras.layers.Dense(3, activation = 'relu'),\n",
        "keras.layers.Dense(3, activation = 'relu'),\n",
        "keras.layers.Dense(1, activation='linear', name='output')\n",
        "])"
      ],
      "metadata": {
        "id": "dAvwZ86710I5"
      },
      "execution_count": 11,
      "outputs": []
    },
    {
      "cell_type": "code",
      "source": [
        "model.compile(\n",
        "    optimizer = 'adam',\n",
        "    loss='mse', \n",
        "    metrics=['mae']\n",
        ")\n",
        "\n",
        "model.summary()"
      ],
      "metadata": {
        "colab": {
          "base_uri": "https://localhost:8080/"
        },
        "id": "sVxH-r_xoNwf",
        "outputId": "d8e639b5-9686-4cd6-bfb7-1d6c946a6248"
      },
      "execution_count": 12,
      "outputs": [
        {
          "output_type": "stream",
          "name": "stdout",
          "text": [
            "Model: \"sequential\"\n",
            "_________________________________________________________________\n",
            " Layer (type)                Output Shape              Param #   \n",
            "=================================================================\n",
            " dense (Dense)               (None, 3)                 39        \n",
            "                                                                 \n",
            " dense_1 (Dense)             (None, 3)                 12        \n",
            "                                                                 \n",
            " dense_2 (Dense)             (None, 3)                 12        \n",
            "                                                                 \n",
            " output (Dense)              (None, 1)                 4         \n",
            "                                                                 \n",
            "=================================================================\n",
            "Total params: 67\n",
            "Trainable params: 67\n",
            "Non-trainable params: 0\n",
            "_________________________________________________________________\n"
          ]
        }
      ]
    },
    {
      "cell_type": "code",
      "source": [
        "logs = model.fit(X_train, y_train, epochs=60, validation_split=0.1)\n"
      ],
      "metadata": {
        "colab": {
          "base_uri": "https://localhost:8080/"
        },
        "id": "iGrTuirPo-t3",
        "outputId": "7676f61d-141a-4039-aa7c-a7298d46b1ea"
      },
      "execution_count": 13,
      "outputs": [
        {
          "output_type": "stream",
          "name": "stdout",
          "text": [
            "Epoch 1/60\n",
            "11/11 [==============================] - 2s 41ms/step - loss: 628.5330 - mae: 23.3109 - val_loss: 606.7720 - val_mae: 23.1066\n",
            "Epoch 2/60\n",
            "11/11 [==============================] - 0s 7ms/step - loss: 625.3192 - mae: 23.2297 - val_loss: 603.9269 - val_mae: 23.0399\n",
            "Epoch 3/60\n",
            "11/11 [==============================] - 0s 6ms/step - loss: 622.7155 - mae: 23.1624 - val_loss: 601.3978 - val_mae: 22.9800\n",
            "Epoch 4/60\n",
            "11/11 [==============================] - 0s 8ms/step - loss: 620.4966 - mae: 23.1039 - val_loss: 599.0756 - val_mae: 22.9246\n",
            "Epoch 5/60\n",
            "11/11 [==============================] - 0s 6ms/step - loss: 618.5331 - mae: 23.0521 - val_loss: 597.0912 - val_mae: 22.8769\n",
            "Epoch 6/60\n",
            "11/11 [==============================] - 0s 12ms/step - loss: 616.8776 - mae: 23.0072 - val_loss: 595.3149 - val_mae: 22.8337\n",
            "Epoch 7/60\n",
            "11/11 [==============================] - 0s 7ms/step - loss: 615.3274 - mae: 22.9664 - val_loss: 593.8006 - val_mae: 22.7958\n",
            "Epoch 8/60\n",
            "11/11 [==============================] - 0s 8ms/step - loss: 613.8911 - mae: 22.9297 - val_loss: 592.4028 - val_mae: 22.7610\n",
            "Epoch 9/60\n",
            "11/11 [==============================] - 0s 8ms/step - loss: 612.5241 - mae: 22.8952 - val_loss: 591.1024 - val_mae: 22.7290\n",
            "Epoch 10/60\n",
            "11/11 [==============================] - 0s 6ms/step - loss: 611.2078 - mae: 22.8622 - val_loss: 589.8325 - val_mae: 22.6982\n",
            "Epoch 11/60\n",
            "11/11 [==============================] - 0s 7ms/step - loss: 609.9437 - mae: 22.8319 - val_loss: 588.5708 - val_mae: 22.6679\n",
            "Epoch 12/60\n",
            "11/11 [==============================] - 0s 7ms/step - loss: 608.7111 - mae: 22.8017 - val_loss: 587.2971 - val_mae: 22.6376\n",
            "Epoch 13/60\n",
            "11/11 [==============================] - 0s 9ms/step - loss: 607.4601 - mae: 22.7726 - val_loss: 586.0627 - val_mae: 22.6084\n",
            "Epoch 14/60\n",
            "11/11 [==============================] - 0s 8ms/step - loss: 606.2139 - mae: 22.7433 - val_loss: 584.8218 - val_mae: 22.5792\n",
            "Epoch 15/60\n",
            "11/11 [==============================] - 0s 9ms/step - loss: 604.9635 - mae: 22.7140 - val_loss: 583.5467 - val_mae: 22.5493\n",
            "Epoch 16/60\n",
            "11/11 [==============================] - 0s 8ms/step - loss: 603.7021 - mae: 22.6848 - val_loss: 582.2483 - val_mae: 22.5189\n",
            "Epoch 17/60\n",
            "11/11 [==============================] - 0s 9ms/step - loss: 602.4451 - mae: 22.6554 - val_loss: 580.9537 - val_mae: 22.4894\n",
            "Epoch 18/60\n",
            "11/11 [==============================] - 0s 9ms/step - loss: 601.1922 - mae: 22.6264 - val_loss: 579.6418 - val_mae: 22.4594\n",
            "Epoch 19/60\n",
            "11/11 [==============================] - 0s 9ms/step - loss: 599.9052 - mae: 22.5968 - val_loss: 578.3359 - val_mae: 22.4296\n",
            "Epoch 20/60\n",
            "11/11 [==============================] - 0s 7ms/step - loss: 598.6027 - mae: 22.5671 - val_loss: 577.0222 - val_mae: 22.3995\n",
            "Epoch 21/60\n",
            "11/11 [==============================] - 0s 6ms/step - loss: 597.2962 - mae: 22.5367 - val_loss: 575.6655 - val_mae: 22.3690\n",
            "Epoch 22/60\n",
            "11/11 [==============================] - 0s 7ms/step - loss: 595.9627 - mae: 22.5057 - val_loss: 574.2581 - val_mae: 22.3371\n",
            "Epoch 23/60\n",
            "11/11 [==============================] - 0s 6ms/step - loss: 594.5558 - mae: 22.4738 - val_loss: 572.8193 - val_mae: 22.3044\n",
            "Epoch 24/60\n",
            "11/11 [==============================] - 0s 6ms/step - loss: 593.1284 - mae: 22.4417 - val_loss: 571.3138 - val_mae: 22.2698\n",
            "Epoch 25/60\n",
            "11/11 [==============================] - 0s 7ms/step - loss: 591.6615 - mae: 22.4080 - val_loss: 569.7756 - val_mae: 22.2344\n",
            "Epoch 26/60\n",
            "11/11 [==============================] - 0s 10ms/step - loss: 590.1321 - mae: 22.3729 - val_loss: 568.1315 - val_mae: 22.1964\n",
            "Epoch 27/60\n",
            "11/11 [==============================] - 0s 6ms/step - loss: 588.5077 - mae: 22.3348 - val_loss: 566.3966 - val_mae: 22.1565\n",
            "Epoch 28/60\n",
            "11/11 [==============================] - 0s 6ms/step - loss: 586.6707 - mae: 22.2923 - val_loss: 564.4832 - val_mae: 22.1122\n",
            "Epoch 29/60\n",
            "11/11 [==============================] - 0s 7ms/step - loss: 584.4968 - mae: 22.2419 - val_loss: 562.0005 - val_mae: 22.0543\n",
            "Epoch 30/60\n",
            "11/11 [==============================] - 0s 9ms/step - loss: 581.8528 - mae: 22.1793 - val_loss: 559.0256 - val_mae: 21.9843\n",
            "Epoch 31/60\n",
            "11/11 [==============================] - 0s 11ms/step - loss: 578.5784 - mae: 22.1027 - val_loss: 555.3566 - val_mae: 21.8977\n",
            "Epoch 32/60\n",
            "11/11 [==============================] - 0s 11ms/step - loss: 574.2874 - mae: 22.0040 - val_loss: 550.8470 - val_mae: 21.7908\n",
            "Epoch 33/60\n",
            "11/11 [==============================] - 0s 6ms/step - loss: 568.6104 - mae: 21.8754 - val_loss: 544.2147 - val_mae: 21.6397\n",
            "Epoch 34/60\n",
            "11/11 [==============================] - 0s 9ms/step - loss: 561.1236 - mae: 21.7123 - val_loss: 535.5367 - val_mae: 21.4453\n",
            "Epoch 35/60\n",
            "11/11 [==============================] - 0s 7ms/step - loss: 551.8124 - mae: 21.5094 - val_loss: 525.5292 - val_mae: 21.2191\n",
            "Epoch 36/60\n",
            "11/11 [==============================] - 0s 7ms/step - loss: 540.5878 - mae: 21.2686 - val_loss: 514.1181 - val_mae: 20.9597\n",
            "Epoch 37/60\n",
            "11/11 [==============================] - 0s 7ms/step - loss: 527.4966 - mae: 20.9921 - val_loss: 501.5550 - val_mae: 20.6700\n",
            "Epoch 38/60\n",
            "11/11 [==============================] - 0s 12ms/step - loss: 513.2205 - mae: 20.6782 - val_loss: 487.8519 - val_mae: 20.3491\n",
            "Epoch 39/60\n",
            "11/11 [==============================] - 0s 8ms/step - loss: 497.8099 - mae: 20.3301 - val_loss: 473.2431 - val_mae: 20.0016\n",
            "Epoch 40/60\n",
            "11/11 [==============================] - 0s 13ms/step - loss: 480.6542 - mae: 19.9469 - val_loss: 458.1076 - val_mae: 19.6324\n",
            "Epoch 41/60\n",
            "11/11 [==============================] - 0s 8ms/step - loss: 462.6047 - mae: 19.5393 - val_loss: 442.0793 - val_mae: 19.2390\n",
            "Epoch 42/60\n",
            "11/11 [==============================] - 0s 14ms/step - loss: 444.0635 - mae: 19.0994 - val_loss: 425.0613 - val_mae: 18.8161\n",
            "Epoch 43/60\n",
            "11/11 [==============================] - 0s 13ms/step - loss: 425.1626 - mae: 18.6490 - val_loss: 407.5568 - val_mae: 18.3672\n",
            "Epoch 44/60\n",
            "11/11 [==============================] - 0s 15ms/step - loss: 405.5552 - mae: 18.1488 - val_loss: 390.0276 - val_mae: 17.9035\n",
            "Epoch 45/60\n",
            "11/11 [==============================] - 0s 20ms/step - loss: 385.7656 - mae: 17.6497 - val_loss: 372.3808 - val_mae: 17.4178\n",
            "Epoch 46/60\n",
            "11/11 [==============================] - 0s 6ms/step - loss: 366.0217 - mae: 17.1118 - val_loss: 354.8550 - val_mae: 16.9155\n",
            "Epoch 47/60\n",
            "11/11 [==============================] - 0s 10ms/step - loss: 346.1224 - mae: 16.5569 - val_loss: 337.6699 - val_mae: 16.4006\n",
            "Epoch 48/60\n",
            "11/11 [==============================] - 0s 17ms/step - loss: 326.9292 - mae: 15.9834 - val_loss: 320.5880 - val_mae: 15.8641\n",
            "Epoch 49/60\n",
            "11/11 [==============================] - 0s 17ms/step - loss: 307.7844 - mae: 15.3922 - val_loss: 304.1670 - val_mae: 15.3186\n",
            "Epoch 50/60\n",
            "11/11 [==============================] - 0s 8ms/step - loss: 289.7718 - mae: 14.7938 - val_loss: 288.2204 - val_mae: 14.7599\n",
            "Epoch 51/60\n",
            "11/11 [==============================] - 0s 14ms/step - loss: 272.1822 - mae: 14.2010 - val_loss: 273.3924 - val_mae: 14.2030\n",
            "Epoch 52/60\n",
            "11/11 [==============================] - 0s 7ms/step - loss: 256.2151 - mae: 13.6282 - val_loss: 259.2267 - val_mae: 13.6359\n",
            "Epoch 53/60\n",
            "11/11 [==============================] - 0s 7ms/step - loss: 241.1351 - mae: 13.0640 - val_loss: 246.1696 - val_mae: 13.0756\n",
            "Epoch 54/60\n",
            "11/11 [==============================] - 0s 8ms/step - loss: 226.8665 - mae: 12.5215 - val_loss: 234.4998 - val_mae: 12.5432\n",
            "Epoch 55/60\n",
            "11/11 [==============================] - 0s 7ms/step - loss: 214.5944 - mae: 12.0382 - val_loss: 223.6781 - val_mae: 12.0785\n",
            "Epoch 56/60\n",
            "11/11 [==============================] - 0s 8ms/step - loss: 203.0544 - mae: 11.6035 - val_loss: 214.1163 - val_mae: 11.6324\n",
            "Epoch 57/60\n",
            "11/11 [==============================] - 0s 7ms/step - loss: 192.9079 - mae: 11.1975 - val_loss: 205.4694 - val_mae: 11.1988\n",
            "Epoch 58/60\n",
            "11/11 [==============================] - 0s 19ms/step - loss: 183.8447 - mae: 10.8354 - val_loss: 197.7775 - val_mae: 10.7878\n",
            "Epoch 59/60\n",
            "11/11 [==============================] - 0s 9ms/step - loss: 175.7261 - mae: 10.5539 - val_loss: 190.8411 - val_mae: 10.4254\n",
            "Epoch 60/60\n",
            "11/11 [==============================] - 0s 40ms/step - loss: 168.3294 - mae: 10.3136 - val_loss: 184.8837 - val_mae: 10.1353\n"
          ]
        }
      ]
    },
    {
      "cell_type": "code",
      "source": [
        "plt.plot(logs.history['val_loss'], c='red')\n",
        "plt.plot(logs.history['loss'], c='blue')"
      ],
      "metadata": {
        "colab": {
          "base_uri": "https://localhost:8080/",
          "height": 282
        },
        "id": "UpsweXEapsMJ",
        "outputId": "0031fc1d-1a9e-4847-bccd-0da988b758c9"
      },
      "execution_count": 14,
      "outputs": [
        {
          "output_type": "execute_result",
          "data": {
            "text/plain": [
              "[<matplotlib.lines.Line2D at 0x7f66d5d6b0d0>]"
            ]
          },
          "metadata": {},
          "execution_count": 14
        },
        {
          "output_type": "display_data",
          "data": {
            "image/png": "[encoded data removed]",
            "text/plain": [
              "<Figure size 432x288 with 1 Axes>"
            ]
          },
          "metadata": {
            "needs_background": "light"
          }
        }
      ]
    },
    {
      "cell_type": "code",
      "source": [
        "prediction_neural = model.predict(X_test)\n",
        "prediction_neural[:10]"
      ],
      "metadata": {
        "colab": {
          "base_uri": "https://localhost:8080/"
        },
        "id": "hcYLIH6vrEfI",
        "outputId": "716e3c6c-e0b5-4868-86ae-94249f6c22b2"
      },
      "execution_count": 15,
      "outputs": [
        {
          "output_type": "execute_result",
          "data": {
            "text/plain": [
              "array([[18.011053 ],\n",
              "       [26.030174 ],\n",
              "       [ 3.397984 ],\n",
              "       [24.9168   ],\n",
              "       [ 3.7261438],\n",
              "       [16.280924 ],\n",
              "       [12.188079 ],\n",
              "       [ 3.712619 ],\n",
              "       [ 3.7261438],\n",
              "       [ 7.761985 ]], dtype=float32)"
            ]
          },
          "metadata": {},
          "execution_count": 15
        }
      ]
    },
    {
      "cell_type": "code",
      "source": [
        "model.evaluate(X_test, y_test)"
      ],
      "metadata": {
        "colab": {
          "base_uri": "https://localhost:8080/"
        },
        "id": "kA3-g-misF_Q",
        "outputId": "0da3b063-b584-4079-dc85-b1b27a385514"
      },
      "execution_count": 16,
      "outputs": [
        {
          "output_type": "stream",
          "name": "stdout",
          "text": [
            "4/4 [==============================] - 0s 7ms/step - loss: 116.4794 - mae: 8.5061\n"
          ]
        },
        {
          "output_type": "execute_result",
          "data": {
            "text/plain": [
              "[116.4793930053711, 8.50611686706543]"
            ]
          },
          "metadata": {},
          "execution_count": 16
        }
      ]
    },
    {
      "cell_type": "markdown",
      "source": [
        "# Zadanie 3 (8ptk) Porównaj obydwa modele z użyciem współczynnika R kwadrat.\n"
      ],
      "metadata": {
        "id": "Izplh3t-10hk"
      }
    },
    {
      "cell_type": "code",
      "source": [
        "from sklearn.metrics import r2_score\n",
        "r2_nn = r2_score(y_test, prediction_neural)\n",
        "r2_lr = r2_score(y_test, prediction_lr)\n",
        "print(r2_nn)\n",
        "print(r2_lr)"
      ],
      "metadata": {
        "colab": {
          "base_uri": "https://localhost:8080/"
        },
        "id": "oA5ox-_P14QB",
        "outputId": "9d38f7ec-468c-4755-f91f-455419909f1c"
      },
      "execution_count": 17,
      "outputs": [
        {
          "output_type": "stream",
          "name": "stdout",
          "text": [
            "-0.6633463762234968\n",
            "0.637457767481718\n"
          ]
        }
      ]
    },
    {
      "cell_type": "markdown",
      "source": [
        "#Wizualizacja\n",
        "#Zadanie 1 (7ptk) Stwórz wykres rozrzutu reprezentujący relację pomiędzy kolumnami medv i crim. Nałóż na ten wykres linię trendu.\n"
      ],
      "metadata": {
        "id": "hFgi9sXA14e7"
      }
    },
    {
      "cell_type": "code",
      "source": [
        "import matplotlib.pyplot as plt\n",
        "\n",
        "plt.scatter(df['medv'], df['crim'])\n"
      ],
      "metadata": {
        "colab": {
          "base_uri": "https://localhost:8080/",
          "height": 282
        },
        "id": "ga3H_buL1-Og",
        "outputId": "4c7db178-f6ab-444b-8155-7ad44ac4b409"
      },
      "execution_count": 18,
      "outputs": [
        {
          "output_type": "execute_result",
          "data": {
            "text/plain": [
              "<matplotlib.collections.PathCollection at 0x7f66d8cb5bd0>"
            ]
          },
          "metadata": {},
          "execution_count": 18
        },
        {
          "output_type": "display_data",
          "data": {
            "image/png": "[encoded data removed]",
            "text/plain": [
              "<Figure size 432x288 with 1 Axes>"
            ]
          },
          "metadata": {
            "needs_background": "light"
          }
        }
      ]
    },
    {
      "cell_type": "markdown",
      "source": [
        "#Zadanie 2 (15ptk)\n",
        "# Stwórz Dashboard, który będzie zawierał:\n",
        "#a) Wykres słupkowy dla parametrów z modelu liniowego\n",
        "\n",
        "\n",
        "\n"
      ],
      "metadata": {
        "id": "EkiICypX1-qZ"
      }
    },
    {
      "cell_type": "code",
      "source": [
        "!pip install dash\n"
      ],
      "metadata": {
        "colab": {
          "base_uri": "https://localhost:8080/"
        },
        "id": "AmOz-Q6UxQ77",
        "outputId": "701c1c06-a7da-462b-dbe7-6c25c7435169"
      },
      "execution_count": 20,
      "outputs": [
        {
          "output_type": "stream",
          "name": "stdout",
          "text": [
            "Collecting dash\n",
            "  Downloading dash-2.1.0-py3-none-any.whl (7.4 MB)\n",
            "\u001b[K     |████████████████████████████████| 7.4 MB 24.0 MB/s \n",
            "\u001b[?25hCollecting dash-table==5.0.0\n",
            "  Downloading dash_table-5.0.0.tar.gz (3.4 kB)\n",
            "Collecting flask-compress\n",
            "  Downloading Flask_Compress-1.10.1-py3-none-any.whl (7.9 kB)\n",
            "Collecting dash-core-components==2.0.0\n",
            "  Downloading dash_core_components-2.0.0.tar.gz (3.4 kB)\n",
            "Requirement already satisfied: plotly>=5.0.0 in /usr/local/lib/python3.7/dist-packages (from dash) (5.5.0)\n",
            "Collecting dash-html-components==2.0.0\n",
            "  Downloading dash_html_components-2.0.0.tar.gz (3.8 kB)\n",
            "Requirement already satisfied: Flask>=1.0.4 in /usr/local/lib/python3.7/dist-packages (from dash) (1.1.4)\n",
            "Requirement already satisfied: click<8.0,>=5.1 in /usr/local/lib/python3.7/dist-packages (from Flask>=1.0.4->dash) (7.1.2)\n",
            "Requirement already satisfied: Werkzeug<2.0,>=0.15 in /usr/local/lib/python3.7/dist-packages (from Flask>=1.0.4->dash) (1.0.1)\n",
            "Requirement already satisfied: Jinja2<3.0,>=2.10.1 in /usr/local/lib/python3.7/dist-packages (from Flask>=1.0.4->dash) (2.11.3)\n",
            "Requirement already satisfied: itsdangerous<2.0,>=0.24 in /usr/local/lib/python3.7/dist-packages (from Flask>=1.0.4->dash) (1.1.0)\n",
            "Requirement already satisfied: MarkupSafe>=0.23 in /usr/local/lib/python3.7/dist-packages (from Jinja2<3.0,>=2.10.1->Flask>=1.0.4->dash) (2.0.1)\n",
            "Requirement already satisfied: six in /usr/local/lib/python3.7/dist-packages (from plotly>=5.0.0->dash) (1.15.0)\n",
            "Requirement already satisfied: tenacity>=6.2.0 in /usr/local/lib/python3.7/dist-packages (from plotly>=5.0.0->dash) (8.0.1)\n",
            "Collecting brotli\n",
            "  Downloading Brotli-1.0.9-cp37-cp37m-manylinux1_x86_64.whl (357 kB)\n",
            "\u001b[K     |████████████████████████████████| 357 kB 53.5 MB/s \n",
            "\u001b[?25hBuilding wheels for collected packages: dash-core-components, dash-html-components, dash-table\n",
            "  Building wheel for dash-core-components (setup.py) ... \u001b[?25l\u001b[?25hdone\n",
            "  Created wheel for dash-core-components: filename=dash_core_components-2.0.0-py3-none-any.whl size=3822 sha256=a01f6a62511aa3aa918f030e1c4e9ad583c5b8cab2a79e00c71ffe4c2cf5b464\n",
            "  Stored in directory: /root/.cache/pip/wheels/00/f9/c7/1a6437d794ed753ea9bc9079e761d4fc803a1f1f5d3697b9ec\n",
            "  Building wheel for dash-html-components (setup.py) ... \u001b[?25l\u001b[?25hdone\n",
            "  Created wheel for dash-html-components: filename=dash_html_components-2.0.0-py3-none-any.whl size=4090 sha256=b0f148f5bcae063a235a6718cd691f6df6b71b13c7996a6437bc89f016f6dcab\n",
            "  Stored in directory: /root/.cache/pip/wheels/ec/6b/81/05aceabd8b27f724e2c96784016287cc1bfbc349ebfda451de\n",
            "  Building wheel for dash-table (setup.py) ... \u001b[?25l\u001b[?25hdone\n",
            "  Created wheel for dash-table: filename=dash_table-5.0.0-py3-none-any.whl size=3912 sha256=97e3f0b35fc3b3af6db318d800e23a468265c34c96e5a41ce7cc9bf40722c386\n",
            "  Stored in directory: /root/.cache/pip/wheels/85/5d/4e/7c276b57992951dbe770bf5caad6448d0539c510663aefd2e2\n",
            "Successfully built dash-core-components dash-html-components dash-table\n",
            "Installing collected packages: brotli, flask-compress, dash-table, dash-html-components, dash-core-components, dash\n",
            "Successfully installed brotli-1.0.9 dash-2.1.0 dash-core-components-2.0.0 dash-html-components-2.0.0 dash-table-5.0.0 flask-compress-1.10.1\n"
          ]
        }
      ]
    },
    {
      "cell_type": "code",
      "source": [
        "import dash"
      ],
      "metadata": {
        "id": "KHfkx3Sl2J_Z"
      },
      "execution_count": 28,
      "outputs": []
    },
    {
      "cell_type": "code",
      "source": [
        "plt.bar(column_names, coefficience)"
      ],
      "metadata": {
        "colab": {
          "base_uri": "https://localhost:8080/",
          "height": 282
        },
        "id": "J3jx-eRzx4Tb",
        "outputId": "277ce984-d614-4d8b-dee5-5af5f750c4b1"
      },
      "execution_count": 25,
      "outputs": [
        {
          "output_type": "execute_result",
          "data": {
            "text/plain": [
              "<BarContainer object of 12 artists>"
            ]
          },
          "metadata": {},
          "execution_count": 25
        },
        {
          "output_type": "display_data",
          "data": {
            "image/png": "[encoded data removed]",
            "text/plain": [
              "<Figure size 432x288 with 1 Axes>"
            ]
          },
          "metadata": {
            "needs_background": "light"
          }
        }
      ]
    },
    {
      "cell_type": "markdown",
      "source": [
        "# b) Histogram dla wybranej kolumny danych"
      ],
      "metadata": {
        "id": "e6m8Wo_32Jb0"
      }
    },
    {
      "cell_type": "code",
      "source": [
        "plt.hist(df['ptratio'])"
      ],
      "metadata": {
        "id": "oRfKAOmz2Q7I",
        "colab": {
          "base_uri": "https://localhost:8080/",
          "height": 334
        },
        "outputId": "514e3b66-89b4-4ebc-e013-028c5ae34d0f"
      },
      "execution_count": 26,
      "outputs": [
        {
          "output_type": "execute_result",
          "data": {
            "text/plain": [
              "(array([ 15.,   2.,  58.,  15.,  35.,  69.,  76.,  40., 178.,  18.]),\n",
              " array([12.6 , 13.54, 14.48, 15.42, 16.36, 17.3 , 18.24, 19.18, 20.12,\n",
              "        21.06, 22.  ]),\n",
              " <a list of 10 Patch objects>)"
            ]
          },
          "metadata": {},
          "execution_count": 26
        },
        {
          "output_type": "display_data",
          "data": {
            "image/png": "[encoded data removed]",
            "text/plain": [
              "<Figure size 432x288 with 1 Axes>"
            ]
          },
          "metadata": {
            "needs_background": "light"
          }
        }
      ]
    },
    {
      "cell_type": "markdown",
      "source": [
        "# c) Wykres rozrzutu dla dowolnej pary kolumn"
      ],
      "metadata": {
        "id": "6-VnZJLx2REk"
      }
    },
    {
      "cell_type": "code",
      "source": [
        "plt.scatter(df['medv'], df['crim'])"
      ],
      "metadata": {
        "colab": {
          "base_uri": "https://localhost:8080/",
          "height": 282
        },
        "id": "11iEOa1dyl0W",
        "outputId": "095a2e55-ada2-4fa2-8940-cb624749a2bd"
      },
      "execution_count": 27,
      "outputs": [
        {
          "output_type": "execute_result",
          "data": {
            "text/plain": [
              "<matplotlib.collections.PathCollection at 0x7f66d4b0f890>"
            ]
          },
          "metadata": {},
          "execution_count": 27
        },
        {
          "output_type": "display_data",
          "data": {
            "image/png": "[encoded data removed]",
            "text/plain": [
              "<Figure size 432x288 with 1 Axes>"
            ]
          },
          "metadata": {
            "needs_background": "light"
          }
        }
      ]
    }
  ]
}