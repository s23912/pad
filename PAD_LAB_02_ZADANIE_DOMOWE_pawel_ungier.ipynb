{
  "nbformat": 4,
  "nbformat_minor": 0,
  "metadata": {
    "colab": {
      "name": "PAD_LAB_02_ZADANIE_DOMOWE_pawel_ungier.ipynb",
      "provenance": [],
      "collapsed_sections": [],
      "mount_file_id": "1bueJuIhNwnr8dMSVFxfJj2QoGrZGM3eF",
      "authorship_tag": "ABX9TyNbz9ZPptNRp6DK2Or60uEb",
      "include_colab_link": true
    },
    "kernelspec": {
      "name": "python3",
      "display_name": "Python 3"
    },
    "language_info": {
      "name": "python"
    }
  },
  "cells": [
    {
      "cell_type": "markdown",
      "metadata": {
        "id": "view-in-github",
        "colab_type": "text"
      },
      "source": [
        "<a href=\"https://colab.research.google.com/github/s23912/pad/blob/main/PAD_LAB_02_ZADANIE_DOMOWE_pawel_ungier.ipynb\" target=\"_parent\"><img src=\"https://colab.research.google.com/assets/colab-badge.svg\" alt=\"Open In Colab\"/></a>"
      ]
    },
    {
      "cell_type": "code",
      "metadata": {
        "id": "Mk4R5U2RusMN"
      },
      "source": [
        "#Pawel Ungier [s23912]\n",
        "#Zadanie domowe PAD_LAB_02"
      ],
      "execution_count": 2,
      "outputs": []
    },
    {
      "cell_type": "code",
      "metadata": {
        "id": "K2bYm__hwIT7"
      },
      "source": [
        "import pandas as pd\n",
        "path='/content/drive/MyDrive/PAD/PAD_02/Zadanie_domowe/PAD_02_PD.csv'"
      ],
      "execution_count": 3,
      "outputs": []
    },
    {
      "cell_type": "code",
      "metadata": {
        "id": "Cl3XUCaMzP62"
      },
      "source": [
        "df=pd.read_csv(path,sep=';')"
      ],
      "execution_count": 4,
      "outputs": []
    },
    {
      "cell_type": "code",
      "metadata": {
        "colab": {
          "base_uri": "https://localhost:8080/",
          "height": 203
        },
        "id": "k3eM2xkAza2R",
        "outputId": "afcde806-4c8b-4fd8-b3fb-90908e5a5a66"
      },
      "source": [
        "df.head()"
      ],
      "execution_count": 5,
      "outputs": [
        {
          "output_type": "execute_result",
          "data": {
            "text/html": [
              "<div>\n",
              "<style scoped>\n",
              "    .dataframe tbody tr th:only-of-type {\n",
              "        vertical-align: middle;\n",
              "    }\n",
              "\n",
              "    .dataframe tbody tr th {\n",
              "        vertical-align: top;\n",
              "    }\n",
              "\n",
              "    .dataframe thead th {\n",
              "        text-align: right;\n",
              "    }\n",
              "</style>\n",
              "<table border=\"1\" class=\"dataframe\">\n",
              "  <thead>\n",
              "    <tr style=\"text-align: right;\">\n",
              "      <th></th>\n",
              "      <th>ID</th>\n",
              "      <th>Country</th>\n",
              "      <th>owns_car</th>\n",
              "      <th>owns_TV</th>\n",
              "      <th>owns_house</th>\n",
              "      <th>owns_Phone</th>\n",
              "      <th>gender</th>\n",
              "      <th>Age</th>\n",
              "    </tr>\n",
              "  </thead>\n",
              "  <tbody>\n",
              "    <tr>\n",
              "      <th>0</th>\n",
              "      <td>1</td>\n",
              "      <td>A</td>\n",
              "      <td>0.0</td>\n",
              "      <td>0.0</td>\n",
              "      <td>0.0</td>\n",
              "      <td>1</td>\n",
              "      <td>M</td>\n",
              "      <td>61</td>\n",
              "    </tr>\n",
              "    <tr>\n",
              "      <th>1</th>\n",
              "      <td>2</td>\n",
              "      <td>B</td>\n",
              "      <td>0.0</td>\n",
              "      <td>0.0</td>\n",
              "      <td>0.0</td>\n",
              "      <td>1</td>\n",
              "      <td>M</td>\n",
              "      <td>44</td>\n",
              "    </tr>\n",
              "    <tr>\n",
              "      <th>2</th>\n",
              "      <td>3</td>\n",
              "      <td>A</td>\n",
              "      <td>0.0</td>\n",
              "      <td>0.0</td>\n",
              "      <td>0.0</td>\n",
              "      <td>1</td>\n",
              "      <td>M</td>\n",
              "      <td>56</td>\n",
              "    </tr>\n",
              "    <tr>\n",
              "      <th>3</th>\n",
              "      <td>4</td>\n",
              "      <td>A</td>\n",
              "      <td>0.0</td>\n",
              "      <td>0.0</td>\n",
              "      <td>0.0</td>\n",
              "      <td>1</td>\n",
              "      <td>M</td>\n",
              "      <td>53</td>\n",
              "    </tr>\n",
              "    <tr>\n",
              "      <th>4</th>\n",
              "      <td>5</td>\n",
              "      <td>C</td>\n",
              "      <td>1.0</td>\n",
              "      <td>1.0</td>\n",
              "      <td>0.0</td>\n",
              "      <td>1</td>\n",
              "      <td>K</td>\n",
              "      <td>60</td>\n",
              "    </tr>\n",
              "  </tbody>\n",
              "</table>\n",
              "</div>"
            ],
            "text/plain": [
              "   ID Country  owns_car  owns_TV  owns_house  owns_Phone gender  Age\n",
              "0   1       A       0.0      0.0         0.0           1      M   61\n",
              "1   2       B       0.0      0.0         0.0           1      M   44\n",
              "2   3       A       0.0      0.0         0.0           1      M   56\n",
              "3   4       A       0.0      0.0         0.0           1      M   53\n",
              "4   5       C       1.0      1.0         0.0           1      K   60"
            ]
          },
          "metadata": {},
          "execution_count": 5
        }
      ]
    },
    {
      "cell_type": "code",
      "metadata": {
        "colab": {
          "base_uri": "https://localhost:8080/"
        },
        "id": "PTteHz56zlzR",
        "outputId": "a1009557-999f-4a34-a7e5-b423b3cdce85"
      },
      "source": [
        "#Zadanie 1\n",
        "#Oblicz liczebność każdej z wartości w zmiennej COUNTRY. \n",
        "df.count()\n",
        "df.keys()\n",
        "df.shape\n",
        "df['Country'].value_counts()"
      ],
      "execution_count": 6,
      "outputs": [
        {
          "output_type": "execute_result",
          "data": {
            "text/plain": [
              "A    328\n",
              "B    201\n",
              "C    186\n",
              "D     78\n",
              "Name: Country, dtype: int64"
            ]
          },
          "metadata": {},
          "execution_count": 6
        }
      ]
    },
    {
      "cell_type": "code",
      "metadata": {
        "colab": {
          "base_uri": "https://localhost:8080/",
          "height": 203
        },
        "id": "_n96xY9X74-j",
        "outputId": "7a6d90b0-c840-4afa-c874-5486a922d4d2"
      },
      "source": [
        "#Zadanie 2\n",
        "#Stwórz zmienną, która będzie informowała o liczbie posiadanych dóbr.\n",
        "df['wealth_quantity']=df['owns_car']+df['owns_TV']+df['owns_house']+df['owns_Phone']\n",
        "df.head()"
      ],
      "execution_count": 7,
      "outputs": [
        {
          "output_type": "execute_result",
          "data": {
            "text/html": [
              "<div>\n",
              "<style scoped>\n",
              "    .dataframe tbody tr th:only-of-type {\n",
              "        vertical-align: middle;\n",
              "    }\n",
              "\n",
              "    .dataframe tbody tr th {\n",
              "        vertical-align: top;\n",
              "    }\n",
              "\n",
              "    .dataframe thead th {\n",
              "        text-align: right;\n",
              "    }\n",
              "</style>\n",
              "<table border=\"1\" class=\"dataframe\">\n",
              "  <thead>\n",
              "    <tr style=\"text-align: right;\">\n",
              "      <th></th>\n",
              "      <th>ID</th>\n",
              "      <th>Country</th>\n",
              "      <th>owns_car</th>\n",
              "      <th>owns_TV</th>\n",
              "      <th>owns_house</th>\n",
              "      <th>owns_Phone</th>\n",
              "      <th>gender</th>\n",
              "      <th>Age</th>\n",
              "      <th>wealth_quantity</th>\n",
              "    </tr>\n",
              "  </thead>\n",
              "  <tbody>\n",
              "    <tr>\n",
              "      <th>0</th>\n",
              "      <td>1</td>\n",
              "      <td>A</td>\n",
              "      <td>0.0</td>\n",
              "      <td>0.0</td>\n",
              "      <td>0.0</td>\n",
              "      <td>1</td>\n",
              "      <td>M</td>\n",
              "      <td>61</td>\n",
              "      <td>1.0</td>\n",
              "    </tr>\n",
              "    <tr>\n",
              "      <th>1</th>\n",
              "      <td>2</td>\n",
              "      <td>B</td>\n",
              "      <td>0.0</td>\n",
              "      <td>0.0</td>\n",
              "      <td>0.0</td>\n",
              "      <td>1</td>\n",
              "      <td>M</td>\n",
              "      <td>44</td>\n",
              "      <td>1.0</td>\n",
              "    </tr>\n",
              "    <tr>\n",
              "      <th>2</th>\n",
              "      <td>3</td>\n",
              "      <td>A</td>\n",
              "      <td>0.0</td>\n",
              "      <td>0.0</td>\n",
              "      <td>0.0</td>\n",
              "      <td>1</td>\n",
              "      <td>M</td>\n",
              "      <td>56</td>\n",
              "      <td>1.0</td>\n",
              "    </tr>\n",
              "    <tr>\n",
              "      <th>3</th>\n",
              "      <td>4</td>\n",
              "      <td>A</td>\n",
              "      <td>0.0</td>\n",
              "      <td>0.0</td>\n",
              "      <td>0.0</td>\n",
              "      <td>1</td>\n",
              "      <td>M</td>\n",
              "      <td>53</td>\n",
              "      <td>1.0</td>\n",
              "    </tr>\n",
              "    <tr>\n",
              "      <th>4</th>\n",
              "      <td>5</td>\n",
              "      <td>C</td>\n",
              "      <td>1.0</td>\n",
              "      <td>1.0</td>\n",
              "      <td>0.0</td>\n",
              "      <td>1</td>\n",
              "      <td>K</td>\n",
              "      <td>60</td>\n",
              "      <td>3.0</td>\n",
              "    </tr>\n",
              "  </tbody>\n",
              "</table>\n",
              "</div>"
            ],
            "text/plain": [
              "   ID Country  owns_car  owns_TV  ...  owns_Phone  gender Age  wealth_quantity\n",
              "0   1       A       0.0      0.0  ...           1       M  61              1.0\n",
              "1   2       B       0.0      0.0  ...           1       M  44              1.0\n",
              "2   3       A       0.0      0.0  ...           1       M  56              1.0\n",
              "3   4       A       0.0      0.0  ...           1       M  53              1.0\n",
              "4   5       C       1.0      1.0  ...           1       K  60              3.0\n",
              "\n",
              "[5 rows x 9 columns]"
            ]
          },
          "metadata": {},
          "execution_count": 7
        }
      ]
    },
    {
      "cell_type": "code",
      "metadata": {
        "colab": {
          "base_uri": "https://localhost:8080/"
        },
        "id": "K4ArZP_PFH4_",
        "outputId": "1f68cd8c-c878-4b96-c67a-99467e786105"
      },
      "source": [
        "#Zadanie 3\n",
        "#Porównaj średnią posiadanych dóbr między kobietami i mężczyznami.\n",
        "print('Średnia dóbr wśród mężczyzn',df[df['gender']=='M']['wealth_quantity'].mean())\n",
        "print('Średnia dóbr wśród kobiet',df[df['gender']=='K']['wealth_quantity'].mean())"
      ],
      "execution_count": 8,
      "outputs": [
        {
          "output_type": "stream",
          "name": "stdout",
          "text": [
            "Średnia dóbr wśród mężczyzn 0.8875\n",
            "Średnia dóbr wśród kobiet 2.7974025974025976\n"
          ]
        }
      ]
    },
    {
      "cell_type": "code",
      "metadata": {
        "id": "R6UFeQ_QT_0R"
      },
      "source": [
        "#Zadanie 4\n",
        "#Stwórz ramkę danych, która zawierać będzie w pierwszej kolumnie wartość zmiennej COUNTRY, \n",
        "#w drugiej kolumnie, średnią posiadanych dóbr w danym kraju, \n",
        "#w trzeciej kolumnie minimum wieku, a czwartej kolumnie odsetek kobiet."
      ],
      "execution_count": 9,
      "outputs": []
    },
    {
      "cell_type": "code",
      "metadata": {
        "colab": {
          "base_uri": "https://localhost:8080/",
          "height": 172
        },
        "id": "iczPvcEfiEqI",
        "outputId": "fbf554a8-d9d1-49ee-be7a-87a1b11fd4b7"
      },
      "source": [
        "#Pierwsza kolumna\n",
        "countries=['A','B','C','D']\n",
        "new_df=pd.DataFrame(countries)\n",
        "new_df"
      ],
      "execution_count": 10,
      "outputs": [
        {
          "output_type": "execute_result",
          "data": {
            "text/html": [
              "<div>\n",
              "<style scoped>\n",
              "    .dataframe tbody tr th:only-of-type {\n",
              "        vertical-align: middle;\n",
              "    }\n",
              "\n",
              "    .dataframe tbody tr th {\n",
              "        vertical-align: top;\n",
              "    }\n",
              "\n",
              "    .dataframe thead th {\n",
              "        text-align: right;\n",
              "    }\n",
              "</style>\n",
              "<table border=\"1\" class=\"dataframe\">\n",
              "  <thead>\n",
              "    <tr style=\"text-align: right;\">\n",
              "      <th></th>\n",
              "      <th>0</th>\n",
              "    </tr>\n",
              "  </thead>\n",
              "  <tbody>\n",
              "    <tr>\n",
              "      <th>0</th>\n",
              "      <td>A</td>\n",
              "    </tr>\n",
              "    <tr>\n",
              "      <th>1</th>\n",
              "      <td>B</td>\n",
              "    </tr>\n",
              "    <tr>\n",
              "      <th>2</th>\n",
              "      <td>C</td>\n",
              "    </tr>\n",
              "    <tr>\n",
              "      <th>3</th>\n",
              "      <td>D</td>\n",
              "    </tr>\n",
              "  </tbody>\n",
              "</table>\n",
              "</div>"
            ],
            "text/plain": [
              "   0\n",
              "0  A\n",
              "1  B\n",
              "2  C\n",
              "3  D"
            ]
          },
          "metadata": {},
          "execution_count": 10
        }
      ]
    },
    {
      "cell_type": "code",
      "metadata": {
        "colab": {
          "base_uri": "https://localhost:8080/"
        },
        "id": "wQe500n9cu0_",
        "outputId": "3a7d4341-bcc5-4c9a-9bda-da6ef24f4f1f"
      },
      "source": [
        "#Druga kolumna \n",
        "tmp=df.groupby(by='Country')['wealth_quantity'].mean() #sprawdzamy jakie są średnie\n",
        "tmp"
      ],
      "execution_count": 16,
      "outputs": [
        {
          "output_type": "execute_result",
          "data": {
            "text/plain": [
              "Country\n",
              "A    0.861538\n",
              "B    1.461929\n",
              "C    3.032787\n",
              "D    4.000000\n",
              "Name: wealth_quantity, dtype: float64"
            ]
          },
          "metadata": {},
          "execution_count": 16
        }
      ]
    },
    {
      "cell_type": "code",
      "metadata": {
        "id": "02KkoghGN0y5"
      },
      "source": [
        "df_mean = df.groupby(by='Country').mean() #przypisujemy średnie dla krajów\n",
        "\n",
        "def code(x):\n",
        "  if x['Country']=='A':\n",
        "    return df_mean.loc['A']['wealth_quantity']\n",
        "  elif x['Country']=='B':\n",
        "    return df_mean.loc['B']['wealth_quantity']\n",
        "  elif x['Country']=='C':\n",
        "    return df_mean.loc['C']['wealth_quantity']\n",
        "  else:\n",
        "    return df_mean.loc['D']['wealth_quantity']\n",
        "    \n",
        "#wykorzystamy funkcję apply"
      ],
      "execution_count": 12,
      "outputs": []
    },
    {
      "cell_type": "code",
      "metadata": {
        "colab": {
          "base_uri": "https://localhost:8080/"
        },
        "id": "CJgDXvx_HWIs",
        "outputId": "ed2efe15-6068-4fdb-a683-c2255d4390bf"
      },
      "source": [
        "#Trzecia kolumna\n",
        "tmp3=df.groupby(by='Country')['Age'].min()\n",
        "tmp3"
      ],
      "execution_count": 14,
      "outputs": [
        {
          "output_type": "execute_result",
          "data": {
            "text/plain": [
              "Country\n",
              "A    18\n",
              "B    18\n",
              "C    18\n",
              "D    18\n",
              "Name: Age, dtype: int64"
            ]
          },
          "metadata": {},
          "execution_count": 14
        }
      ]
    },
    {
      "cell_type": "code",
      "metadata": {
        "colab": {
          "base_uri": "https://localhost:8080/"
        },
        "id": "vJL_to3OHWR9",
        "outputId": "259abded-3198-45f6-93f1-d70f510029cb"
      },
      "source": [
        "#Czwarta kolumna\n",
        "country_A = df[df[\"Country\"]==\"A\"]\n",
        "fK = country_A[country_A[\"gender\"]==\"K\"] # kobiety w country A\n",
        "len(fK)/len(country_A)"
      ],
      "execution_count": 23,
      "outputs": [
        {
          "output_type": "execute_result",
          "data": {
            "text/plain": [
              "0.0"
            ]
          },
          "metadata": {},
          "execution_count": 23
        }
      ]
    },
    {
      "cell_type": "code",
      "metadata": {
        "colab": {
          "base_uri": "https://localhost:8080/"
        },
        "id": "Rh6-vt7iJ8Ns",
        "outputId": "5326c304-1a2d-480f-ac3b-87ab3059bbd6"
      },
      "source": [
        "country_B = df[df[\"Country\"]==\"B\"]\n",
        "fK = country_B[country_B[\"gender\"]==\"K\"] # kobiety w country B\n",
        "len(fK)/len(country_B)"
      ],
      "execution_count": 24,
      "outputs": [
        {
          "output_type": "execute_result",
          "data": {
            "text/plain": [
              "0.6218905472636815"
            ]
          },
          "metadata": {},
          "execution_count": 24
        }
      ]
    },
    {
      "cell_type": "code",
      "metadata": {
        "colab": {
          "base_uri": "https://localhost:8080/"
        },
        "id": "0SmQ55aBKFmG",
        "outputId": "461056bc-2b86-4a3f-8d7c-f322656350f5"
      },
      "source": [
        "country_C = df[df[\"Country\"]==\"C\"]\n",
        "fK = country_C[country_C[\"gender\"]==\"K\"] # kobiety w country C\n",
        "len(fK)/len(country_C)"
      ],
      "execution_count": 25,
      "outputs": [
        {
          "output_type": "execute_result",
          "data": {
            "text/plain": [
              "0.989247311827957"
            ]
          },
          "metadata": {},
          "execution_count": 25
        }
      ]
    },
    {
      "cell_type": "code",
      "metadata": {
        "colab": {
          "base_uri": "https://localhost:8080/"
        },
        "id": "Gi65T-YTKNWL",
        "outputId": "78fe8ed8-945f-4403-a7c3-a2063c124fa3"
      },
      "source": [
        "country_D = df[df[\"Country\"]==\"D\"]\n",
        "fK = country_D[country_D[\"gender\"]==\"K\"] # kobiety w country D\n",
        "len(fK)/len(country_D)"
      ],
      "execution_count": 26,
      "outputs": [
        {
          "output_type": "execute_result",
          "data": {
            "text/plain": [
              "1.0"
            ]
          },
          "metadata": {},
          "execution_count": 26
        }
      ]
    }
  ]
}