{
  "nbformat": 4,
  "nbformat_minor": 0,
  "metadata": {
    "colab": {
      "name": "pad_lab01_homework_pawelungier.ipynb",
      "provenance": [],
      "collapsed_sections": [],
      "authorship_tag": "ABX9TyNvYt/RufzqknEDN9c7xOij",
      "include_colab_link": true
    },
    "kernelspec": {
      "name": "python3",
      "display_name": "Python 3"
    },
    "language_info": {
      "name": "python"
    }
  },
  "cells": [
    {
      "cell_type": "markdown",
      "metadata": {
        "id": "view-in-github",
        "colab_type": "text"
      },
      "source": [
        "<a href=\"https://colab.research.google.com/github/s23912/pad/blob/main/PAD_LAB_001_PRACADOMOWA_pawelungier.ipynb\" target=\"_parent\"><img src=\"https://colab.research.google.com/assets/colab-badge.svg\" alt=\"Open In Colab\"/></a>"
      ]
    },
    {
      "cell_type": "code",
      "metadata": {
        "id": "VvRjRr1Bt9mn"
      },
      "source": [
        "#Pawel Ungier [s23912]"
      ],
      "execution_count": null,
      "outputs": []
    },
    {
      "cell_type": "code",
      "metadata": {
        "id": "Oj-3dZjyuiLH"
      },
      "source": [
        "# Zadanie 1a\n",
        "\n",
        "class animal():\n",
        "  def __init__(self,genus, gender='Female'):\n",
        "    isAlive = True\n",
        "    self.gender = gender\n",
        "    self.genus = genus\n",
        "  def breed(self, partner):\n",
        "    try:\n",
        "      if (self.gender == 'Female' and partner.gender == 'Male') and (self.genus == partner.genus):\n",
        "        if type(self) =='dog':\n",
        "          animal_instance = dog()\n",
        "        else:\n",
        "          animal_instance = cat()\n",
        "      return animal_instance\n",
        "    except Error:\n",
        "      print('attribute not found')\n",
        "      \n",
        "class dog(animal):\n",
        "  def __init__(self, gender='Female'):\n",
        "    super().__init__('Canis', gender)\n",
        "  def woof():\n",
        "    return 'woof woof'\n",
        "\n",
        "class cat(animal):\n",
        "  def __init__(self,gender='Female'):\n",
        "    super().__init__('Felis', gender)\n",
        "  def purr():\n",
        "    return 'purr'"
      ],
      "execution_count": null,
      "outputs": []
    },
    {
      "cell_type": "code",
      "metadata": {
        "colab": {
          "base_uri": "https://localhost:8080/"
        },
        "id": "nrwDPztA33NY",
        "outputId": "a051711e-ab8a-42c6-a479-a8910d8df853"
      },
      "source": [
        "#Zadanie 1b\n",
        "catFemale = cat()\n",
        "catMale = cat(gender=\"Male\")\n",
        "catChild=catFemale.breed(catMale)\n",
        "print('Child cat gender: ',catChild.gender)\n",
        "print('Child cat genus: ',catChild.genus)"
      ],
      "execution_count": null,
      "outputs": [
        {
          "output_type": "stream",
          "name": "stdout",
          "text": [
            "Child cat gender:  Female\n",
            "Child cat genus:  Felis\n"
          ]
        }
      ]
    },
    {
      "cell_type": "code",
      "metadata": {
        "id": "pI7VcISF-YmK"
      },
      "source": [
        "#Zadanie 2\n",
        "\n",
        "# Worker Class\n",
        "class Worker():\n",
        "    def __init__( self, _id, _name, _age, _salary):\n",
        "        self.Id = _id\n",
        "        self.Name = _name\n",
        "        self.Age = _age\n",
        "        self.Salary = _salary\n",
        "    def get_worker(self):\n",
        "        current_year = 2020\n",
        "        return (\"ID \" + str(self.Id) + \" | \" + self.Name + \" Age: \" + str(current_year - self.Age) + \" Salary: \" + str(self.Salary))\n",
        "    def count_age(self):\n",
        "        current_year = 2020\n",
        "        person_age = current_year - self.Age\n",
        "        return person_age\n",
        "\n",
        "# Worker Instances\n",
        "W1 = Worker(1, \"Adam\", 1983, 1500)\n",
        "W2 = Worker(2, \"Anna\", 1981, 1700)\n",
        "W3 = Worker(3, \"Blazej\", 1990, 1800)\n",
        "W4 = Worker(4, \"Beata\", 1992, 1600)\n",
        "W5 = Worker(5, \"Czeslaw\", 1980, 2000)\n",
        "W6 = Worker(6, \"Cecylia\", 1983, 2100)\n",
        "W7 = Worker(7, \"Daniel\", 1976, 1900)\n",
        "\n",
        "#List of workers\n",
        "worker_list = [W1,W2,W3,W4,W5,W6,W7]\n",
        "\n",
        "#P Function - presentaion of All Workers\n",
        "def function_show_workers(_worker_list):\n",
        "    worker_list = _worker_list\n",
        "    for i in range(len(worker_list)):\n",
        "        print(worker_list[i].get_worker())\n",
        "\n",
        "# Function - Avarage Salary for All Workers\n",
        "\n",
        "def function_avarage_salary(_worker_list):\n",
        "    worker_list=_worker_list\n",
        "    av_salary = 0\n",
        "    salary = 0\n",
        "    for i in range(len(worker_list)):\n",
        "        salary = salary + worker_list[i].Salary\n",
        "        av_salary = salary / (i + 1)\n",
        "    return av_salary\n",
        "\n",
        "\n",
        "# Function - Avarage Salary for Workers > 30 or <=30\n",
        "def function_avarage_salary_30(_worker_list, _age_limit, _flag_over30):\n",
        "    worker_list=_worker_list\n",
        "    age_limit = _age_limit\n",
        "    flag_over30 = _flag_over30\n",
        "    salary=0\n",
        "    av_salary=0\n",
        "    how_many = 0\n",
        "    if flag_over30 == True:\n",
        "        for i in range(len(worker_list)):\n",
        "            if worker_list[i].count_age() > age_limit:\n",
        "                salary = salary + worker_list[i].Salary\n",
        "                how_many = how_many + 1\n",
        "                av_salary = salary / how_many\n",
        "    elif not flag_over30:\n",
        "        for i in range(len(worker_list)):\n",
        "            if worker_list[i].count_age() <= age_limit:\n",
        "                salary = salary + worker_list[i].Salary\n",
        "                how_many = how_many + 1\n",
        "                av_salary = salary / how_many\n",
        "    return av_salary"
      ],
      "execution_count": null,
      "outputs": []
    },
    {
      "cell_type": "code",
      "metadata": {
        "colab": {
          "base_uri": "https://localhost:8080/"
        },
        "id": "RS80laeTFl7S",
        "outputId": "bef55976-37be-4844-f003-b907214090cf"
      },
      "source": [
        "print(\"# List of Worksers\")\n",
        "function_show_workers(worker_list)\n",
        "print(\"Avarage Salary of All Workers: \" + str(function_avarage_salary(worker_list)))\n",
        "print(\"Avarage Salary of Workers over 30: \" + str(function_avarage_salary_30(worker_list, 30, True)))\n",
        "print(\"Avarage Salary of Workers <= 30: \" + str(function_avarage_salary_30(worker_list, 30, False)))\n",
        "salary_1 = function_avarage_salary_30(worker_list, 30, True)\n",
        "salary_2 = function_avarage_salary_30(worker_list, 30, False)\n",
        "difference = salary_1 - salary_2\n",
        "print(\"Difference in salary between Employees Groups is \" + str(difference))"
      ],
      "execution_count": null,
      "outputs": [
        {
          "output_type": "stream",
          "name": "stdout",
          "text": [
            "# List of Worksers\n",
            "ID 1 | Adam Age: 37 Salary: 1500\n",
            "ID 2 | Anna Age: 39 Salary: 1700\n",
            "ID 3 | Blazej Age: 30 Salary: 1800\n",
            "ID 4 | Beata Age: 28 Salary: 1600\n",
            "ID 5 | Czeslaw Age: 40 Salary: 2000\n",
            "ID 6 | Cecylia Age: 37 Salary: 2100\n",
            "ID 7 | Daniel Age: 44 Salary: 1900\n",
            "Avarage Salary of All Workers: 1800.0\n",
            "Avarage Salary of Workers over 30: 1840.0\n",
            "Avarage Salary of Workers <= 30: 1700.0\n",
            "Difference in salary between Employees Groups is 140.0\n"
          ]
        }
      ]
    }
  ]
}